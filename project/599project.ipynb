{
 "cells": [
  {
   "cell_type": "code",
   "execution_count": 6,
   "metadata": {},
   "outputs": [],
   "source": [
    "import pandas as pd"
   ]
  },
  {
   "cell_type": "code",
   "execution_count": 7,
   "metadata": {},
   "outputs": [
    {
     "data": {
      "text/plain": [
       "(14000, 9)"
      ]
     },
     "execution_count": 7,
     "metadata": {},
     "output_type": "execute_result"
    }
   ],
   "source": [
    "df=pd.read_csv('Total_data.csv')\n",
    "df.shape"
   ]
  },
  {
   "cell_type": "code",
   "execution_count": 8,
   "metadata": {
    "scrolled": false
   },
   "outputs": [
    {
     "name": "stderr",
     "output_type": "stream",
     "text": [
      "/Users/apple/anaconda3/lib/python3.6/site-packages/ipykernel_launcher.py:4: SettingWithCopyWarning: \n",
      "A value is trying to be set on a copy of a slice from a DataFrame\n",
      "\n",
      "See the caveats in the documentation: http://pandas.pydata.org/pandas-docs/stable/user_guide/indexing.html#returning-a-view-versus-a-copy\n",
      "  after removing the cwd from sys.path.\n",
      "/Users/apple/anaconda3/lib/python3.6/site-packages/ipykernel_launcher.py:5: SettingWithCopyWarning: \n",
      "A value is trying to be set on a copy of a slice from a DataFrame\n",
      "\n",
      "See the caveats in the documentation: http://pandas.pydata.org/pandas-docs/stable/user_guide/indexing.html#returning-a-view-versus-a-copy\n",
      "  \"\"\"\n",
      "Building prefix dict from the default dictionary ...\n",
      "Loading model from cache /var/folders/y1/hn1g_j8d3dld698c0g4g97qm0000gn/T/jieba.cache\n",
      "Loading model cost 0.756 seconds.\n",
      "Prefix dict has been built succesfully.\n"
     ]
    }
   ],
   "source": [
    "import re\n",
    "pattern = re.compile(u'\\s|\\n|<[^>]*>|&.*;|\\\\(.*?\\\\)', re.S)\n",
    "for i in range(df.shape[0]):\n",
    "    df.content[i] = pattern.sub('', df.content[i])\n",
    "    df.content[i] = df.content[i].replace('”“','')\n",
    "df.category.unique()\n",
    "df=df[['category','content','src','time','title']]\n",
    "\n",
    "import jieba\n",
    "for i in range(df.shape[0]):\n",
    "    df.content[i]=jieba.lcut(df.content[i])\n",
    "#df.to_csv('df_fencihou.csv')"
   ]
  },
  {
   "cell_type": "code",
   "execution_count": 9,
   "metadata": {
    "scrolled": true
   },
   "outputs": [],
   "source": [
    "#df=pd.read_csv('df_fencihou.csv')\n",
    "df_content=df[['category','content']]\n",
    "\n",
    "stopwords=pd.read_csv(\"stopwords.txt\",index_col=False,sep=\"\\t\",quoting=3,names=['stopword'], encoding='utf-8')\n",
    "def drop_stopwords(contents,stopwords):\n",
    "    contents_clean = []\n",
    "    all_words = []\n",
    "    for line in contents:\n",
    "        line_clean = []\n",
    "        for word in line:\n",
    "            if word in stopwords:\n",
    "                continue\n",
    "            line_clean.append(word)\n",
    "            all_words.append(str(word))\n",
    "        contents_clean.append(line_clean)\n",
    "    return contents_clean,all_words\n",
    "\n",
    "contents = df_content.content.values.tolist()    \n",
    "stopwords = stopwords.stopword.values.tolist()\n",
    "contents_clean,all_words = drop_stopwords(contents,stopwords)\n",
    "df_content=pd.DataFrame({'contents_clean':contents_clean,'label':df_content.category})\n",
    "\n",
    "#df_content_pre = df_ex1[df_ex1.isnull().T.any().T]\n"
   ]
  },
  {
   "cell_type": "code",
   "execution_count": 11,
   "metadata": {},
   "outputs": [],
   "source": [
    "df_content=df_content[df_content.label!='video']"
   ]
  },
  {
   "cell_type": "code",
   "execution_count": 12,
   "metadata": {
    "scrolled": true
   },
   "outputs": [
    {
     "name": "stderr",
     "output_type": "stream",
     "text": [
      "/Users/apple/anaconda3/lib/python3.6/site-packages/ipykernel_launcher.py:6: UserWarning: Pandas doesn't allow columns to be created via a new attribute name - see https://pandas.pydata.org/pandas-docs/stable/indexing.html#attribute-access\n",
      "  \n"
     ]
    }
   ],
   "source": [
    "df_content_use = df_content.dropna(axis=0,how='any')\n",
    "\n",
    "from sklearn import preprocessing\n",
    "le = preprocessing.LabelEncoder()\n",
    "le.fit(df_content_use.label.tolist())\n",
    "df_content.use_label=le.transform(df_content_use.label)\n",
    "\n",
    "df_content_use_new=pd.DataFrame({'content':df_content_use.contents_clean,'label':df_content.use_label})\n",
    "\n",
    "#from sklearn.model_selection import train_test_split\n",
    "\n",
    "#x_train, x_test, y_train, y_test = train_test_split(df_content_use_new['content'].values, df_content_use_new['label'].values, random_state=1)\n",
    "\n",
    "words_content = []\n",
    "for line_index in range(df_content_use_new.shape[0]):\n",
    "    try:\n",
    "        #x_train[line_index][word_index] = str(x_train[line_index][word_index])\n",
    "        words_content.append(' '.join(df_content_use_new['content'].values[line_index]))\n",
    "    except:\n",
    "        print (line_index)\n",
    "\n",
    "#test_words_content = []\n",
    "#for line_index in range(len(x_test)):\n",
    "    #try:\n",
    "        #x_train[line_index][word_index] = str(x_train[line_index][word_index])\n",
    "        #test_words_content.append(' '.join(x_test[line_index]))\n",
    "    #except:\n",
    "         #print (line_index,word_index)\n",
    "\n",
    "\n",
    "from sklearn.feature_extraction.text import TfidfVectorizer\n",
    "vectorizer = TfidfVectorizer(analyzer='word', max_features=4000,  lowercase = False)\n",
    "vectorizer.fit(words_content)\n",
    "\n",
    "#from sklearn.naive_bayes import MultinomialNB\n",
    "#classifier = MultinomialNB()\n",
    "#classifier.fit(vectorizer.transform(words_content), y_train)\n",
    "\n",
    "\n",
    "#classifier.score(vectorizer.transform(words), y_train)\n",
    "\n",
    "#classifier.score(vectorizer.transform(test_words_content), y_test)\n",
    "\n",
    "vectorizer.transform(words_content)\n",
    "X_content = vectorizer.fit_transform(words_content).toarray()\n",
    "d_content =pd.DataFrame(X_content)"
   ]
  },
  {
   "cell_type": "code",
   "execution_count": null,
   "metadata": {},
   "outputs": [],
   "source": [
    "#ytrain=pd.DataFrame(df_content_use_new.label)\n",
    "y=pd.DataFrame(df_content_use_new.label)\n",
    "y=y.reset_index(drop=True)\n",
    "d_content_s=pd.concat([d_content,y],axis=1,ignore_index=True)\n",
    "#d_content_s=d_content_s.drop([-2])\n",
    "d_content_s\n",
    "d_content_s.to_csv('s.csv')"
   ]
  },
  {
   "cell_type": "code",
   "execution_count": 14,
   "metadata": {},
   "outputs": [
    {
     "data": {
      "text/plain": [
       "(13277, 4001)"
      ]
     },
     "execution_count": 14,
     "metadata": {},
     "output_type": "execute_result"
    }
   ],
   "source": [
    "d_content_s.shape"
   ]
  },
  {
   "cell_type": "code",
   "execution_count": 86,
   "metadata": {},
   "outputs": [
    {
     "name": "stderr",
     "output_type": "stream",
     "text": [
      "/Users/apple/anaconda3/lib/python3.6/site-packages/ipykernel_launcher.py:5: SettingWithCopyWarning: \n",
      "A value is trying to be set on a copy of a slice from a DataFrame\n",
      "\n",
      "See the caveats in the documentation: http://pandas.pydata.org/pandas-docs/stable/user_guide/indexing.html#returning-a-view-versus-a-copy\n",
      "  \"\"\"\n",
      "/Users/apple/anaconda3/lib/python3.6/site-packages/ipykernel_launcher.py:6: SettingWithCopyWarning: \n",
      "A value is trying to be set on a copy of a slice from a DataFrame\n",
      "\n",
      "See the caveats in the documentation: http://pandas.pydata.org/pandas-docs/stable/user_guide/indexing.html#returning-a-view-versus-a-copy\n",
      "  \n",
      "/Users/apple/anaconda3/lib/python3.6/site-packages/ipykernel_launcher.py:41: UserWarning: Pandas doesn't allow columns to be created via a new attribute name - see https://pandas.pydata.org/pandas-docs/stable/indexing.html#attribute-access\n"
     ]
    }
   ],
   "source": [
    "df=pd.read_csv('Total_data.csv')\n",
    "import re\n",
    "pattern = re.compile(u'\\s|\\n|<[^>]*>|&.*;|\\\\(.*?\\\\)', re.S)\n",
    "for i in range(df.shape[0]):\n",
    "    df.title[i] = pattern.sub('', df.title[i])\n",
    "    df.title[i] = df.title[i].replace('”“','')\n",
    "#df.category.unique()\n",
    "df=df[['category','content','src','time','title']]\n",
    "\n",
    "import jieba\n",
    "for i in range(df.shape[0]):\n",
    "    df.title[i]=jieba.lcut(df.title[i])\n",
    "#df.to_csv('df_fencihou.csv')\n",
    "df_ex=df[['category','title']]\n",
    "\n",
    "stopwords=pd.read_csv(\"stopwords.txt\",index_col=False,sep=\"\\t\",quoting=3,names=['stopword'], encoding='utf-8')\n",
    "def drop_stopwords(contents,stopwords):\n",
    "    contents_clean = []\n",
    "    all_words = []\n",
    "    for line in contents:\n",
    "        line_clean = []\n",
    "        for word in line:\n",
    "            if word in stopwords:\n",
    "                continue\n",
    "            line_clean.append(word)\n",
    "            all_words.append(str(word))\n",
    "        contents_clean.append(line_clean)\n",
    "    return contents_clean,all_words\n",
    "\n",
    "contents = df_ex.title.values.tolist()    \n",
    "stopwords = stopwords.stopword.values.tolist()\n",
    "contents_clean,all_words = drop_stopwords(contents,stopwords)\n",
    "df_ex1=pd.DataFrame({'title_clean':contents_clean,'label':df_ex.category})\n",
    "\n",
    "#df_ex1_pre = df_ex1[df_ex1.isnull().T.any().T]\n",
    "df_ex1_use = df_ex1.dropna(axis=0,how='any')\n",
    "\n",
    "from sklearn import preprocessing\n",
    "le = preprocessing.LabelEncoder()\n",
    "le.fit(df_ex1_use.label.tolist())\n",
    "df_ex1.use_label=le.transform(df_ex1_use.label)\n",
    "\n",
    "df_ex1_use_new=pd.DataFrame({'title':df_ex1_use.title_clean,'label':df_ex1.use_label})\n",
    "\n",
    "#from sklearn.model_selection import train_test_split\n",
    "\n",
    "#x_train, x_test, y_train, y_test = train_test_split(df_ex1_use_new['title'].values, df_ex1_use_new['label'].values, random_state=1)\n",
    "\n",
    "words = []\n",
    "for line_index in range(df_ex1_use_new.shape[0]):\n",
    "    try:\n",
    "        #x_train[line_index][word_index] = str(x_train[line_index][word_index])\n",
    "        words.append(' '.join(df_ex1_use_new['title'].values[line_index]))\n",
    "    except:\n",
    "        print (line_index,word_index)\n",
    "\n",
    "#test_words = []\n",
    "#for line_index in range(len(x_test)):\n",
    "    #try:\n",
    "        #x_train[line_index][word_index] = str(x_train[line_index][word_index])\n",
    "        #test_words.append(' '.join(x_test[line_index]))\n",
    "    #except:\n",
    "         #print (line_index,word_index)\n",
    "\n",
    "from sklearn.feature_extraction.text import TfidfVectorizer"
   ]
  },
  {
   "cell_type": "code",
   "execution_count": 87,
   "metadata": {},
   "outputs": [
    {
     "data": {
      "text/plain": [
       "TfidfVectorizer(analyzer='word', binary=False, decode_error='strict',\n",
       "        dtype=<class 'numpy.float64'>, encoding='utf-8', input='content',\n",
       "        lowercase=False, max_df=1.0, max_features=4000, min_df=1,\n",
       "        ngram_range=(1, 1), norm='l2', preprocessor=None, smooth_idf=True,\n",
       "        stop_words=None, strip_accents=None, sublinear_tf=False,\n",
       "        token_pattern='(?u)\\\\b\\\\w\\\\w+\\\\b', tokenizer=None, use_idf=True,\n",
       "        vocabulary=None)"
      ]
     },
     "execution_count": 87,
     "metadata": {},
     "output_type": "execute_result"
    }
   ],
   "source": [
    "vectorizer = TfidfVectorizer(analyzer='word',max_features=4000,lowercase = False)\n",
    "vectorizer.fit(words)\n",
    "\n",
    "#from sklearn.naive_bayes import MultinomialNB\n",
    "#classifier = MultinomialNB()\n",
    "#classifier.fit(vectorizer.transform(words), y_train)\n",
    "\n",
    "\n",
    "#classifier.score(vectorizer.transform(words), y_train)\n",
    "\n",
    "#classifier.score(vectorizer.transform(test_words), y_test)"
   ]
  },
  {
   "cell_type": "code",
   "execution_count": 89,
   "metadata": {},
   "outputs": [],
   "source": [
    "vectorizer.transform(words)\n",
    "X_title = vectorizer.fit_transform(words).toarray()\n",
    "d_title=pd.DataFrame(X_title)\n",
    "\n",
    "y=pd.DataFrame(df_ex1_use_new.label)\n",
    "y=y.reset_index(drop=True)\n",
    "d_title_s=pd.concat([d_title,y],axis=1,ignore_index=True)\n",
    "#d_title_s\n",
    "d_title_s.to_csv('s_title.csv')"
   ]
  },
  {
   "cell_type": "code",
   "execution_count": 39,
   "metadata": {},
   "outputs": [],
   "source": [
    "from sklearn.neural_network import MLPRegressor\n",
    "from sklearn.ensemble import GradientBoostingClassifier\n",
    "from sklearn.ensemble import RandomForestClassifier\n",
    "from sklearn.metrics import f1_score\n",
    "import lightgbm as lgb\n",
    "import numpy as np\n",
    "from xgboost import XGBClassifier\n",
    "from sklearn.model_selection import train_test_split\n",
    "from sklearn.metrics import accuracy_score\n",
    "from sklearn.naive_bayes import MultinomialNB\n",
    "from sklearn.neural_network import MLPClassifier"
   ]
  },
  {
   "cell_type": "code",
   "execution_count": 48,
   "metadata": {},
   "outputs": [],
   "source": [
    "def choose_models(nstop, X_trntst, Y_trntst):\n",
    "    rsq_trn = pd.DataFrame(np.zeros((nstop, 4)), columns =['bayes','NN','GB','RF'])\n",
    "    rsq_tst = pd.DataFrame(np.zeros((nstop, 4)), columns =['bayes','NN','GB','RF'])\n",
    "    rsq_validate = pd.DataFrame(np.zeros((1, 4)), columns =['bayes','NN','GB','RF'])\n",
    "    \n",
    "    for n in range(nstop):\n",
    "        X_trn, X_tst, Y_trn, Y_tst = train_test_split(X_trntst, Y_trntst, test_size = .3)\n",
    "        X_trn_save = X_trn.copy()\n",
    "        X_tst_save = X_tst.copy()\n",
    "        Y_trn_save = Y_trn.copy()\n",
    "        Y_tst_save = Y_tst.copy()\n",
    "    \n",
    "    \n",
    "    #Bayes\n",
    "\n",
    "        bys = MultinomialNB()\n",
    "        bys.fit(X_trn,Y_trn)\n",
    "        predict_bys_trn = bys.predict(X_trn)\n",
    "        predict_bys_tst = bys.predict(X_tst)\n",
    "        rsq_trn.loc[n,'bayes'] = accuracy_score(Y_trn,predict_bys_trn)\n",
    "        rsq_tst.loc[n,'bayes'] = accuracy_score(Y_tst,predict_bys_tst)\n",
    "\n",
    "        X_trn = X_trn_save\n",
    "        X_tst = X_tst_save\n",
    "        Y_trn = Y_trn_save\n",
    "        Y_tst = Y_tst_save\n",
    "        \n",
    "        #print('b')\n",
    "        \n",
    "    \n",
    "    # xgboost \n",
    "        #xgbt=XGBClassifier(learning_rate=0.2,n_estimators=200,max_depth=8,random_state=1)\n",
    "        #xgbt.fit(X_trn,Y_trn)\n",
    "        #predict_xgbt_trn = xgbt.predict(X_trn)\n",
    "        #predict_xgbt_tst = xgbt.predict(X_tst)\n",
    "        #rsq_trn.loc[n,'xgbt'] = accuracy_score(Y_trn,predict_xgbt_trn)\n",
    "        #rsq_tst.loc[n,'xgbt'] = accuracy_score(Y_tst,predict_xgbt_tst)\n",
    "\n",
    "        #X_trn = X_trn_save\n",
    "        #X_tst = X_tst_save\n",
    "        #Y_trn = Y_trn_save\n",
    "        #Y_tst = Y_tst_save\n",
    "        \n",
    "\n",
    "\n",
    "    # Neural net   \n",
    "        NN = MLPClassifier(hidden_layer_sizes=(4,),activation='relu',solver='adam',\n",
    "                          learning_rate='adaptive',max_iter=10000,learning_rate_init=.01,alpha=.01)\n",
    "        NN.fit(X_trn,Y_trn)\n",
    "        predict_NN_trn = NN.predict(X_trn)\n",
    "        predict_NN_tst = NN.predict(X_tst)\n",
    "        rsq_trn.loc[n,'NN'] = accuracy_score(Y_trn,predict_NN_trn)\n",
    "        rsq_tst.loc[n,'NN'] = accuracy_score(Y_tst,predict_NN_tst)\n",
    "\n",
    "        X_trn = X_trn_save\n",
    "        X_tst = X_tst_save\n",
    "        Y_trn = Y_trn_save\n",
    "        Y_trn = Y_trn_save\n",
    "        \n",
    "        #print('n')\n",
    "\n",
    "\n",
    "    # Gradient boosting tree    \n",
    "        params = {'n_estimators':100, 'max_depth':5, 'min_samples_split':20, 'learning_rate':.2}\n",
    "        GB = GradientBoostingClassifier(**params)\n",
    "        GB.fit(X_trn,Y_trn)\n",
    "        predict_GB_trn = GB.predict(X_trn)\n",
    "        predict_GB_tst = GB.predict(X_tst)\n",
    "        rsq_trn.loc[n,'GB'] = accuracy_score(Y_trn,predict_GB_trn)\n",
    "        rsq_tst.loc[n,'GB'] = accuracy_score(Y_tst,predict_GB_tst)\n",
    "\n",
    "        X_trn = X_trn_save\n",
    "        X_tst = X_tst_save\n",
    "        Y_trn = Y_trn_save\n",
    "        Y_tst = Y_tst_save\n",
    "        \n",
    "        #print('gbt')\n",
    "\n",
    "\n",
    "    # Random forest\n",
    "        RF = RandomForestClassifier(n_estimators=200, max_depth=6)    \n",
    "        RF.fit(X_trn,Y_trn)\n",
    "        predict_RF_trn = RF.predict(X_trn)\n",
    "        predict_RF_tst = RF.predict(X_tst)\n",
    "        rsq_trn.loc[n,'RF'] = accuracy_score(Y_trn,predict_RF_trn)\n",
    "        rsq_tst.loc[n,'RF'] = accuracy_score(Y_tst,predict_RF_tst)\n",
    "        \n",
    "        print(n)\n",
    "    \n",
    "    return rsq_trn,rsq_tst"
   ]
  },
  {
   "cell_type": "code",
   "execution_count": 5,
   "metadata": {},
   "outputs": [],
   "source": [
    "d_title_s=pd.read_csv('s_title.csv')"
   ]
  },
  {
   "cell_type": "code",
   "execution_count": 21,
   "metadata": {},
   "outputs": [],
   "source": [
    "x=d_title_s.iloc[:,1:4001]\n",
    "y=d_title_s.iloc[:,4001]"
   ]
  },
  {
   "cell_type": "code",
   "execution_count": 49,
   "metadata": {},
   "outputs": [
    {
     "name": "stdout",
     "output_type": "stream",
     "text": [
      "0\n",
      "1\n",
      "2\n",
      "3\n",
      "4\n",
      "5\n",
      "6\n",
      "7\n",
      "8\n",
      "9\n"
     ]
    }
   ],
   "source": [
    "a,b=choose_models(10, x, y)"
   ]
  },
  {
   "cell_type": "code",
   "execution_count": 50,
   "metadata": {},
   "outputs": [
    {
     "data": {
      "text/html": [
       "<div>\n",
       "<style scoped>\n",
       "    .dataframe tbody tr th:only-of-type {\n",
       "        vertical-align: middle;\n",
       "    }\n",
       "\n",
       "    .dataframe tbody tr th {\n",
       "        vertical-align: top;\n",
       "    }\n",
       "\n",
       "    .dataframe thead th {\n",
       "        text-align: right;\n",
       "    }\n",
       "</style>\n",
       "<table border=\"1\" class=\"dataframe\">\n",
       "  <thead>\n",
       "    <tr style=\"text-align: right;\">\n",
       "      <th></th>\n",
       "      <th>bayes</th>\n",
       "      <th>NN</th>\n",
       "      <th>GB</th>\n",
       "      <th>RF</th>\n",
       "    </tr>\n",
       "  </thead>\n",
       "  <tbody>\n",
       "    <tr>\n",
       "      <th>0</th>\n",
       "      <td>0.867872</td>\n",
       "      <td>0.983723</td>\n",
       "      <td>0.979362</td>\n",
       "      <td>0.354043</td>\n",
       "    </tr>\n",
       "    <tr>\n",
       "      <th>1</th>\n",
       "      <td>0.867128</td>\n",
       "      <td>0.982979</td>\n",
       "      <td>0.978936</td>\n",
       "      <td>0.373617</td>\n",
       "    </tr>\n",
       "    <tr>\n",
       "      <th>2</th>\n",
       "      <td>0.863191</td>\n",
       "      <td>0.982872</td>\n",
       "      <td>0.978723</td>\n",
       "      <td>0.363617</td>\n",
       "    </tr>\n",
       "    <tr>\n",
       "      <th>3</th>\n",
       "      <td>0.866596</td>\n",
       "      <td>0.982340</td>\n",
       "      <td>0.979574</td>\n",
       "      <td>0.326596</td>\n",
       "    </tr>\n",
       "    <tr>\n",
       "      <th>4</th>\n",
       "      <td>0.861915</td>\n",
       "      <td>0.982872</td>\n",
       "      <td>0.978085</td>\n",
       "      <td>0.317872</td>\n",
       "    </tr>\n",
       "    <tr>\n",
       "      <th>5</th>\n",
       "      <td>0.867234</td>\n",
       "      <td>0.981596</td>\n",
       "      <td>0.979362</td>\n",
       "      <td>0.317234</td>\n",
       "    </tr>\n",
       "    <tr>\n",
       "      <th>6</th>\n",
       "      <td>0.870000</td>\n",
       "      <td>0.982872</td>\n",
       "      <td>0.976809</td>\n",
       "      <td>0.334043</td>\n",
       "    </tr>\n",
       "    <tr>\n",
       "      <th>7</th>\n",
       "      <td>0.868830</td>\n",
       "      <td>0.984362</td>\n",
       "      <td>0.980000</td>\n",
       "      <td>0.354894</td>\n",
       "    </tr>\n",
       "    <tr>\n",
       "      <th>8</th>\n",
       "      <td>0.868191</td>\n",
       "      <td>0.983085</td>\n",
       "      <td>0.979894</td>\n",
       "      <td>0.316383</td>\n",
       "    </tr>\n",
       "    <tr>\n",
       "      <th>9</th>\n",
       "      <td>0.868404</td>\n",
       "      <td>0.983085</td>\n",
       "      <td>0.981064</td>\n",
       "      <td>0.334574</td>\n",
       "    </tr>\n",
       "  </tbody>\n",
       "</table>\n",
       "</div>"
      ],
      "text/plain": [
       "      bayes        NN        GB        RF\n",
       "0  0.867872  0.983723  0.979362  0.354043\n",
       "1  0.867128  0.982979  0.978936  0.373617\n",
       "2  0.863191  0.982872  0.978723  0.363617\n",
       "3  0.866596  0.982340  0.979574  0.326596\n",
       "4  0.861915  0.982872  0.978085  0.317872\n",
       "5  0.867234  0.981596  0.979362  0.317234\n",
       "6  0.870000  0.982872  0.976809  0.334043\n",
       "7  0.868830  0.984362  0.980000  0.354894\n",
       "8  0.868191  0.983085  0.979894  0.316383\n",
       "9  0.868404  0.983085  0.981064  0.334574"
      ]
     },
     "execution_count": 50,
     "metadata": {},
     "output_type": "execute_result"
    }
   ],
   "source": [
    "a"
   ]
  },
  {
   "cell_type": "code",
   "execution_count": 51,
   "metadata": {},
   "outputs": [
    {
     "data": {
      "text/html": [
       "<div>\n",
       "<style scoped>\n",
       "    .dataframe tbody tr th:only-of-type {\n",
       "        vertical-align: middle;\n",
       "    }\n",
       "\n",
       "    .dataframe tbody tr th {\n",
       "        vertical-align: top;\n",
       "    }\n",
       "\n",
       "    .dataframe thead th {\n",
       "        text-align: right;\n",
       "    }\n",
       "</style>\n",
       "<table border=\"1\" class=\"dataframe\">\n",
       "  <thead>\n",
       "    <tr style=\"text-align: right;\">\n",
       "      <th></th>\n",
       "      <th>bayes</th>\n",
       "      <th>NN</th>\n",
       "      <th>GB</th>\n",
       "      <th>RF</th>\n",
       "    </tr>\n",
       "  </thead>\n",
       "  <tbody>\n",
       "    <tr>\n",
       "      <th>0</th>\n",
       "      <td>0.820055</td>\n",
       "      <td>0.798461</td>\n",
       "      <td>0.804418</td>\n",
       "      <td>0.336312</td>\n",
       "    </tr>\n",
       "    <tr>\n",
       "      <th>1</th>\n",
       "      <td>0.823033</td>\n",
       "      <td>0.793249</td>\n",
       "      <td>0.803177</td>\n",
       "      <td>0.366344</td>\n",
       "    </tr>\n",
       "    <tr>\n",
       "      <th>2</th>\n",
       "      <td>0.823778</td>\n",
       "      <td>0.800199</td>\n",
       "      <td>0.800447</td>\n",
       "      <td>0.350211</td>\n",
       "    </tr>\n",
       "    <tr>\n",
       "      <th>3</th>\n",
       "      <td>0.827997</td>\n",
       "      <td>0.796724</td>\n",
       "      <td>0.798709</td>\n",
       "      <td>0.322909</td>\n",
       "    </tr>\n",
       "    <tr>\n",
       "      <th>4</th>\n",
       "      <td>0.832961</td>\n",
       "      <td>0.808637</td>\n",
       "      <td>0.811368</td>\n",
       "      <td>0.323405</td>\n",
       "    </tr>\n",
       "    <tr>\n",
       "      <th>5</th>\n",
       "      <td>0.820799</td>\n",
       "      <td>0.796972</td>\n",
       "      <td>0.804666</td>\n",
       "      <td>0.314966</td>\n",
       "    </tr>\n",
       "    <tr>\n",
       "      <th>6</th>\n",
       "      <td>0.811368</td>\n",
       "      <td>0.803673</td>\n",
       "      <td>0.801440</td>\n",
       "      <td>0.328369</td>\n",
       "    </tr>\n",
       "    <tr>\n",
       "      <th>7</th>\n",
       "      <td>0.810375</td>\n",
       "      <td>0.791263</td>\n",
       "      <td>0.793001</td>\n",
       "      <td>0.339787</td>\n",
       "    </tr>\n",
       "    <tr>\n",
       "      <th>8</th>\n",
       "      <td>0.818565</td>\n",
       "      <td>0.796972</td>\n",
       "      <td>0.797468</td>\n",
       "      <td>0.309506</td>\n",
       "    </tr>\n",
       "    <tr>\n",
       "      <th>9</th>\n",
       "      <td>0.824770</td>\n",
       "      <td>0.801688</td>\n",
       "      <td>0.800447</td>\n",
       "      <td>0.321420</td>\n",
       "    </tr>\n",
       "  </tbody>\n",
       "</table>\n",
       "</div>"
      ],
      "text/plain": [
       "      bayes        NN        GB        RF\n",
       "0  0.820055  0.798461  0.804418  0.336312\n",
       "1  0.823033  0.793249  0.803177  0.366344\n",
       "2  0.823778  0.800199  0.800447  0.350211\n",
       "3  0.827997  0.796724  0.798709  0.322909\n",
       "4  0.832961  0.808637  0.811368  0.323405\n",
       "5  0.820799  0.796972  0.804666  0.314966\n",
       "6  0.811368  0.803673  0.801440  0.328369\n",
       "7  0.810375  0.791263  0.793001  0.339787\n",
       "8  0.818565  0.796972  0.797468  0.309506\n",
       "9  0.824770  0.801688  0.800447  0.321420"
      ]
     },
     "execution_count": 51,
     "metadata": {},
     "output_type": "execute_result"
    }
   ],
   "source": [
    "b"
   ]
  },
  {
   "cell_type": "code",
   "execution_count": 53,
   "metadata": {},
   "outputs": [
    {
     "name": "stdout",
     "output_type": "stream",
     "text": [
      "Bayes: 0.8669361702127659 0.8213700670141474\n",
      "NN: 0.9829787234042552 0.7987838173243981\n",
      "GB: 0.9791808510638298 0.8015140233308514\n",
      "RF: 0.3392872340425532 0.3313229089103996\n"
     ]
    }
   ],
   "source": [
    "print('Bayes:', a['bayes'].mean(), b['bayes'].mean())\n",
    "print('NN:', a['NN'].mean(), b['NN'].mean())\n",
    "print('GB:', a['GB'].mean(), b['GB'].mean())\n",
    "print('RF:', a['RF'].mean(), b['RF'].mean())"
   ]
  },
  {
   "cell_type": "code",
   "execution_count": 54,
   "metadata": {},
   "outputs": [
    {
     "ename": "NameError",
     "evalue": "name 'le' is not defined",
     "output_type": "error",
     "traceback": [
      "\u001b[0;31m---------------------------------------------------------------------------\u001b[0m",
      "\u001b[0;31mNameError\u001b[0m                                 Traceback (most recent call last)",
      "\u001b[0;32m<ipython-input-54-373909f5a4bd>\u001b[0m in \u001b[0;36m<module>\u001b[0;34m\u001b[0m\n\u001b[0;32m----> 1\u001b[0;31m \u001b[0mle\u001b[0m\u001b[0;34m.\u001b[0m\u001b[0mclasses_\u001b[0m\u001b[0;34m\u001b[0m\u001b[0;34m\u001b[0m\u001b[0m\n\u001b[0m",
      "\u001b[0;31mNameError\u001b[0m: name 'le' is not defined"
     ]
    }
   ],
   "source": [
    "le.classes_"
   ]
  },
  {
   "cell_type": "code",
   "execution_count": 61,
   "metadata": {},
   "outputs": [],
   "source": [
    "d=d_title_s.iloc[:,4001].tolist()"
   ]
  },
  {
   "cell_type": "code",
   "execution_count": 64,
   "metadata": {},
   "outputs": [],
   "source": [
    "dic={}\n",
    "for k in d:\n",
    "    if k not in dic:\n",
    "        dic[k]=1\n",
    "    else:\n",
    "        dic[k]+=1"
   ]
  },
  {
   "cell_type": "code",
   "execution_count": 67,
   "metadata": {},
   "outputs": [
    {
     "data": {
      "text/plain": [
       "{14: 2830,\n",
       " 17: 2141,\n",
       " 5: 1005,\n",
       " 7: 1641,\n",
       " 18: 941,\n",
       " 10: 92,\n",
       " 20: 152,\n",
       " 3: 976,\n",
       " 1: 653,\n",
       " 12: 590,\n",
       " 16: 2,\n",
       " 19: 1,\n",
       " 11: 2,\n",
       " 2: 2,\n",
       " 0: 58,\n",
       " 13: 1440,\n",
       " 9: 286,\n",
       " 4: 135,\n",
       " 21: 4,\n",
       " 15: 467,\n",
       " 8: 9,\n",
       " 6: 2}"
      ]
     },
     "execution_count": 67,
     "metadata": {},
     "output_type": "execute_result"
    }
   ],
   "source": [
    "dic"
   ]
  },
  {
   "cell_type": "code",
   "execution_count": null,
   "metadata": {},
   "outputs": [],
   "source": []
  }
 ],
 "metadata": {
  "kernelspec": {
   "display_name": "Python 3",
   "language": "python",
   "name": "python3"
  },
  "language_info": {
   "codemirror_mode": {
    "name": "ipython",
    "version": 3
   },
   "file_extension": ".py",
   "mimetype": "text/x-python",
   "name": "python",
   "nbconvert_exporter": "python",
   "pygments_lexer": "ipython3",
   "version": "3.6.7"
  }
 },
 "nbformat": 4,
 "nbformat_minor": 2
}
